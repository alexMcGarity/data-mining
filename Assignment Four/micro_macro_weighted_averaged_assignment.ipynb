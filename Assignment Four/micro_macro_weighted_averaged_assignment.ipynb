{
  "cells": [
    {
      "cell_type": "code",
      "execution_count": 13,
      "metadata": {
        "id": "f_G3DlGSXRfH"
      },
      "outputs": [],
      "source": [
        "from sklearn.metrics import confusion_matrix\n",
        "from sklearn.metrics import accuracy_score\n",
        "from sklearn.metrics import precision_score\n",
        "from sklearn.metrics import recall_score\n",
        "from sklearn.metrics import f1_score\n",
        "from sklearn.metrics import precision_recall_fscore_support\n",
        "from sklearn.metrics import classification_report"
      ]
    },
    {
      "cell_type": "code",
      "execution_count": 14,
      "metadata": {
        "id": "GZ_YCRm9TBv9"
      },
      "outputs": [],
      "source": [
        "y_true = [\"cat\", \"cat\", \"cat\", \"cat\", \"dog\", \"dog\", \"dog\", \"fish\", \"fish\", \"fish\"]\n",
        "#y_pred = [\"cat\", \"cat\", \"cat\", \"dog\", \"dog\", \"dog\", \"fish\", \"fish\", \"fish\", \"dog\"]\n",
        "y_pred = [\"cat\", \"dog\", \"fish\", \"cat\", \"dog\", \"fish\", \"cat\", \"dog\", \"fish\", \"dog\"]  "
      ]
    },
    {
      "cell_type": "code",
      "execution_count": 15,
      "metadata": {
        "colab": {
          "base_uri": "https://localhost:8080/"
        },
        "id": "ut56qfn3YKT0",
        "outputId": "f442e775-afe3-4843-a821-56d6d5515756"
      },
      "outputs": [
        {
          "data": {
            "text/plain": [
              "array([[2, 1, 1],\n",
              "       [1, 1, 1],\n",
              "       [0, 2, 1]], dtype=int64)"
            ]
          },
          "execution_count": 15,
          "metadata": {},
          "output_type": "execute_result"
        }
      ],
      "source": [
        "confusion_matrix(y_true, y_pred)"
      ]
    },
    {
      "cell_type": "code",
      "execution_count": 16,
      "metadata": {
        "colab": {
          "base_uri": "https://localhost:8080/"
        },
        "id": "EBGbLt_KYQwE",
        "outputId": "7c270317-2e13-4294-ba0c-b0b8a5fb88cd"
      },
      "outputs": [
        {
          "name": "stdout",
          "output_type": "stream",
          "text": [
            "4\n",
            "0.4\n"
          ]
        }
      ],
      "source": [
        "a_nn = accuracy_score(y_true, y_pred, normalize=False)\n",
        "a_n = accuracy_score(y_true, y_pred, normalize=True)\n",
        "print(a_nn)\n",
        "print(a_n)"
      ]
    },
    {
      "cell_type": "code",
      "execution_count": 17,
      "metadata": {
        "colab": {
          "base_uri": "https://localhost:8080/"
        },
        "id": "RLu0fGJbgpnz",
        "outputId": "228a86a5-2051-4132-815f-c07131a6c41f"
      },
      "outputs": [
        {
          "data": {
            "text/plain": [
              "[array([0.66666667, 0.25      , 0.33333333]),\n",
              " array([0.5       , 0.33333333, 0.33333333]),\n",
              " array([0.57142857, 0.28571429, 0.33333333])]"
            ]
          },
          "execution_count": 17,
          "metadata": {},
          "output_type": "execute_result"
        }
      ],
      "source": [
        "p = precision_score(y_true, y_pred, average=None)\n",
        "r = recall_score(y_true, y_pred, average=None)\n",
        "f1 = f1_score(y_true, y_pred, average=None)\n",
        "[p, r, f1]"
      ]
    },
    {
      "cell_type": "code",
      "execution_count": 18,
      "metadata": {
        "colab": {
          "base_uri": "https://localhost:8080/"
        },
        "id": "vMReXFlDTuiB",
        "outputId": "6dc026c0-a883-48ad-92e0-f715689e79ce"
      },
      "outputs": [
        {
          "data": {
            "text/plain": [
              "[0.4, 0.4166666666666667, 0.4416666666666666]"
            ]
          },
          "execution_count": 18,
          "metadata": {},
          "output_type": "execute_result"
        }
      ],
      "source": [
        "p_micro = precision_score(y_true, y_pred, average=\"micro\")\n",
        "p_macro = precision_score(y_true, y_pred, average=\"macro\")\n",
        "p_weighted = precision_score(y_true, y_pred, average=\"weighted\")\n",
        "[p_micro, p_macro, p_weighted]"
      ]
    },
    {
      "cell_type": "code",
      "execution_count": 19,
      "metadata": {
        "colab": {
          "base_uri": "https://localhost:8080/"
        },
        "id": "OcBFV5DLgGqz",
        "outputId": "337ac3d1-4f33-4e1d-dc13-646e91ba0bca"
      },
      "outputs": [
        {
          "data": {
            "text/plain": [
              "[0.4, 0.38888888888888884, 0.4]"
            ]
          },
          "execution_count": 19,
          "metadata": {},
          "output_type": "execute_result"
        }
      ],
      "source": [
        "r_micro = recall_score(y_true, y_pred, average=\"micro\")\n",
        "r_macro = recall_score(y_true, y_pred, average=\"macro\")\n",
        "r_weighted = recall_score(y_true, y_pred, average=\"weighted\")\n",
        "[r_micro, r_macro, r_weighted]"
      ]
    },
    {
      "cell_type": "code",
      "execution_count": 20,
      "metadata": {
        "colab": {
          "base_uri": "https://localhost:8080/"
        },
        "id": "9kGWzN1LZKmc",
        "outputId": "a466f40d-6f3e-434d-fe07-87c626abdf4f"
      },
      "outputs": [
        {
          "data": {
            "text/plain": [
              "[0.4000000000000001, 0.3968253968253968, 0.4142857142857143]"
            ]
          },
          "execution_count": 20,
          "metadata": {},
          "output_type": "execute_result"
        }
      ],
      "source": [
        "f1_micro = f1_score(y_true, y_pred, average=\"micro\")\n",
        "f1_macro = f1_score(y_true, y_pred, average=\"macro\")\n",
        "f1_weighted = f1_score(y_true, y_pred, average=\"weighted\")\n",
        "[f1_micro, f1_macro, f1_weighted]"
      ]
    },
    {
      "cell_type": "code",
      "execution_count": 21,
      "metadata": {
        "colab": {
          "base_uri": "https://localhost:8080/"
        },
        "id": "QBs2ZwLCZaXt",
        "outputId": "3a7ff4fa-3155-4e24-df3d-85b9675b5848"
      },
      "outputs": [
        {
          "data": {
            "text/plain": [
              "(array([0.66666667, 0.25      , 0.33333333]),\n",
              " array([0.5       , 0.33333333, 0.33333333]),\n",
              " array([0.57142857, 0.28571429, 0.33333333]),\n",
              " array([4, 3, 3], dtype=int64))"
            ]
          },
          "execution_count": 21,
          "metadata": {},
          "output_type": "execute_result"
        }
      ],
      "source": [
        "precision_recall_fscore_support(y_true, y_pred)"
      ]
    },
    {
      "cell_type": "code",
      "execution_count": 22,
      "metadata": {
        "colab": {
          "base_uri": "https://localhost:8080/"
        },
        "id": "o5aRT6ZAZkHJ",
        "outputId": "4e232b71-04e7-4a4a-912a-1a204cc697ab"
      },
      "outputs": [
        {
          "data": {
            "text/plain": [
              "[(0.4, 0.4, 0.4000000000000001, None),\n",
              " (0.4166666666666667, 0.38888888888888884, 0.3968253968253968, None),\n",
              " (0.4416666666666666, 0.4, 0.4142857142857143, None)]"
            ]
          },
          "execution_count": 22,
          "metadata": {},
          "output_type": "execute_result"
        }
      ],
      "source": [
        "prfs_micro = precision_recall_fscore_support(y_true, y_pred, average=\"micro\")\n",
        "prfs_macro = precision_recall_fscore_support(y_true, y_pred, average=\"macro\")\n",
        "prfs_weighted = precision_recall_fscore_support(y_true, y_pred, average=\"weighted\")\n",
        "[prfs_micro, prfs_macro, prfs_weighted]"
      ]
    },
    {
      "cell_type": "code",
      "execution_count": 24,
      "metadata": {
        "colab": {
          "base_uri": "https://localhost:8080/"
        },
        "id": "SbEIHRhYarKW",
        "outputId": "7aa5cd27-92e5-4400-a1b1-19bacb594038"
      },
      "outputs": [
        {
          "name": "stdout",
          "output_type": "stream",
          "text": [
            "              precision    recall  f1-score   support\n",
            "\n",
            "         cat       0.67      0.50      0.57         4\n",
            "         dog       0.25      0.33      0.29         3\n",
            "        fish       0.33      0.33      0.33         3\n",
            "\n",
            "    accuracy                           0.40        10\n",
            "   macro avg       0.42      0.39      0.40        10\n",
            "weighted avg       0.44      0.40      0.41        10\n",
            "\n"
          ]
        }
      ],
      "source": [
        "target_names = ['cat', 'dog', 'fish']\n",
        "#print(classification_report(y_true, y_pred, target_names=target_names))\n",
        "labels=[1,2,3]\n",
        "print(classification_report(y_true, y_pred, labels=[\"cat\", \"dog\", \"fish\"], target_names=target_names))"
      ]
    }
  ],
  "metadata": {
    "colab": {
      "collapsed_sections": [],
      "provenance": []
    },
    "kernelspec": {
      "display_name": "Python 3.10.7 64-bit (microsoft store)",
      "language": "python",
      "name": "python3"
    },
    "language_info": {
      "codemirror_mode": {
        "name": "ipython",
        "version": 3
      },
      "file_extension": ".py",
      "mimetype": "text/x-python",
      "name": "python",
      "nbconvert_exporter": "python",
      "pygments_lexer": "ipython3",
      "version": "3.10.7"
    },
    "vscode": {
      "interpreter": {
        "hash": "25023e466fa3735353441a9750ec1431f91af0e07709d75994f3b2db92047dd9"
      }
    }
  },
  "nbformat": 4,
  "nbformat_minor": 0
}
