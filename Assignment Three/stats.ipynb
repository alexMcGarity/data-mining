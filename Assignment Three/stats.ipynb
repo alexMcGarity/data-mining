{
 "cells": [
  {
   "cell_type": "code",
   "execution_count": 15,
   "metadata": {},
   "outputs": [
    {
     "data": {
      "text/html": [
       "<div>\n",
       "<style scoped>\n",
       "    .dataframe tbody tr th:only-of-type {\n",
       "        vertical-align: middle;\n",
       "    }\n",
       "\n",
       "    .dataframe tbody tr th {\n",
       "        vertical-align: top;\n",
       "    }\n",
       "\n",
       "    .dataframe thead th {\n",
       "        text-align: right;\n",
       "    }\n",
       "</style>\n",
       "<table border=\"1\" class=\"dataframe\">\n",
       "  <thead>\n",
       "    <tr style=\"text-align: right;\">\n",
       "      <th></th>\n",
       "      <th>x</th>\n",
       "      <th>y</th>\n",
       "      <th>x_deviation</th>\n",
       "      <th>y_deviation</th>\n",
       "      <th>x_variance</th>\n",
       "      <th>y_variance</th>\n",
       "      <th>x_standard_deviation</th>\n",
       "      <th>y_standard_deviation</th>\n",
       "    </tr>\n",
       "  </thead>\n",
       "  <tbody>\n",
       "    <tr>\n",
       "      <th>0</th>\n",
       "      <td>73</td>\n",
       "      <td>78</td>\n",
       "      <td>2.2</td>\n",
       "      <td>8.6</td>\n",
       "      <td>4.84</td>\n",
       "      <td>73.96</td>\n",
       "      <td>7.42967</td>\n",
       "      <td>7.98749</td>\n",
       "    </tr>\n",
       "    <tr>\n",
       "      <th>1</th>\n",
       "      <td>67</td>\n",
       "      <td>64</td>\n",
       "      <td>-3.8</td>\n",
       "      <td>-5.4</td>\n",
       "      <td>14.44</td>\n",
       "      <td>29.16</td>\n",
       "      <td>7.42967</td>\n",
       "      <td>7.98749</td>\n",
       "    </tr>\n",
       "    <tr>\n",
       "      <th>2</th>\n",
       "      <td>79</td>\n",
       "      <td>76</td>\n",
       "      <td>8.2</td>\n",
       "      <td>6.6</td>\n",
       "      <td>67.24</td>\n",
       "      <td>43.56</td>\n",
       "      <td>7.42967</td>\n",
       "      <td>7.98749</td>\n",
       "    </tr>\n",
       "    <tr>\n",
       "      <th>3</th>\n",
       "      <td>75</td>\n",
       "      <td>70</td>\n",
       "      <td>4.2</td>\n",
       "      <td>0.6</td>\n",
       "      <td>17.64</td>\n",
       "      <td>0.36</td>\n",
       "      <td>7.42967</td>\n",
       "      <td>7.98749</td>\n",
       "    </tr>\n",
       "    <tr>\n",
       "      <th>4</th>\n",
       "      <td>60</td>\n",
       "      <td>59</td>\n",
       "      <td>-10.8</td>\n",
       "      <td>-10.4</td>\n",
       "      <td>116.64</td>\n",
       "      <td>108.16</td>\n",
       "      <td>7.42967</td>\n",
       "      <td>7.98749</td>\n",
       "    </tr>\n",
       "  </tbody>\n",
       "</table>\n",
       "</div>"
      ],
      "text/plain": [
       "    x   y  x_deviation  y_deviation  x_variance  y_variance  \\\n",
       "0  73  78          2.2          8.6        4.84       73.96   \n",
       "1  67  64         -3.8         -5.4       14.44       29.16   \n",
       "2  79  76          8.2          6.6       67.24       43.56   \n",
       "3  75  70          4.2          0.6       17.64        0.36   \n",
       "4  60  59        -10.8        -10.4      116.64      108.16   \n",
       "\n",
       "   x_standard_deviation  y_standard_deviation  \n",
       "0               7.42967               7.98749  \n",
       "1               7.42967               7.98749  \n",
       "2               7.42967               7.98749  \n",
       "3               7.42967               7.98749  \n",
       "4               7.42967               7.98749  "
      ]
     },
     "execution_count": 15,
     "metadata": {},
     "output_type": "execute_result"
    }
   ],
   "source": [
    "#bot that takes two arrays and returns the deviation and variance of each sample in a dataframe\n",
    "import pandas as pd\n",
    "import math\n",
    "import numpy as np\n",
    "import matplotlib.pyplot as plt\n",
    "\n",
    "#function that takes two arrays and returns the deviation and variance of each sample in a dataframe\n",
    "def stats(x,y):\n",
    "    #create a dataframe with the two arrays\n",
    "    df = pd.DataFrame({'x':x,'y':y})\n",
    "    #create a new column that calculates the deviation of x\n",
    "    df['x_deviation'] = df['x'] - df['x'].mean()\n",
    "    #create a new column that calculates the deviation of y\n",
    "    df['y_deviation'] = df['y'] - df['y'].mean()\n",
    "    #create a new column that calculates the variance of x\n",
    "    df['x_variance'] = df['x_deviation'] ** 2\n",
    "    #create a new column that calculates the variance of y\n",
    "    df['y_variance'] = df['y_deviation'] ** 2\n",
    "    #add variances, then divide by n-1, then take the square root\n",
    "    df['x_standard_deviation'] = math.sqrt(df['x_variance'].sum()/(len(df)-1))\n",
    "    df['y_standard_deviation'] = math.sqrt(df['y_variance'].sum()/(len(df)-1))\n",
    "    #return the dataframe\n",
    "    return df\n",
    "\n",
    "#x = [1.33, 1.87, 1.5, 1.53, 0.88, 1.49, 1.83, 1.86, 1.26, 2.1]\n",
    "#y = [3.18, 3.08, 2.76, 3.37, 3.57, 2.91, 2.93, 3.66, 3.9, 3.87]\n",
    "\n",
    "x=[73,67,79,75,60]\n",
    "y=[78,64,76,70,59]\n",
    "\n",
    "stats(x,y)"
   ]
  },
  {
   "cell_type": "code",
   "execution_count": 14,
   "metadata": {},
   "outputs": [
    {
     "data": {
      "text/plain": [
       "55.2"
      ]
     },
     "execution_count": 14,
     "metadata": {},
     "output_type": "execute_result"
    }
   ],
   "source": [
    "#add variances, then divide by n-1, then take the square root\n",
    "def variance(x):\n",
    "    n = len(x)\n",
    "    deviations = [(x_i - np.mean(x)) ** 2 for x_i in x]\n",
    "    return sum(deviations) / (n - 1)\n",
    "\n",
    "variance(x)\n",
    "\n"
   ]
  }
 ],
 "metadata": {
  "kernelspec": {
   "display_name": "Python 3.10.7 64-bit (microsoft store)",
   "language": "python",
   "name": "python3"
  },
  "language_info": {
   "codemirror_mode": {
    "name": "ipython",
    "version": 3
   },
   "file_extension": ".py",
   "mimetype": "text/x-python",
   "name": "python",
   "nbconvert_exporter": "python",
   "pygments_lexer": "ipython3",
   "version": "3.10.7"
  },
  "orig_nbformat": 4,
  "vscode": {
   "interpreter": {
    "hash": "25023e466fa3735353441a9750ec1431f91af0e07709d75994f3b2db92047dd9"
   }
  }
 },
 "nbformat": 4,
 "nbformat_minor": 2
}
