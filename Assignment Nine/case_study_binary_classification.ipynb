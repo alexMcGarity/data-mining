{
  "cells": [
    {
      "cell_type": "markdown",
      "metadata": {
        "id": "VynXS_ioMOn_"
      },
      "source": [
        "# Case Study: Binary Classification - Diabetes (1/0)"
      ]
    },
    {
      "cell_type": "code",
      "execution_count": 69,
      "metadata": {
        "id": "A7Pgy8e6q_LI"
      },
      "outputs": [],
      "source": [
        "# Load libraries\n",
        "from matplotlib import pyplot\n",
        "from pandas import read_csv\n",
        "from pandas import set_option\n",
        "from pandas.plotting import scatter_matrix\n",
        "from sklearn.preprocessing import StandardScaler\n",
        "from sklearn.model_selection import train_test_split\n",
        "from sklearn.model_selection import KFold\n",
        "from sklearn.model_selection import cross_val_score\n",
        "from sklearn.model_selection import GridSearchCV\n",
        "from sklearn.metrics import classification_report\n",
        "from sklearn.metrics import confusion_matrix\n",
        "from sklearn.metrics import accuracy_score\n",
        "from sklearn.pipeline import Pipeline\n",
        "from sklearn.linear_model import LogisticRegression\n",
        "from sklearn.tree import DecisionTreeClassifier\n",
        "from sklearn.neighbors import KNeighborsClassifier\n",
        "from sklearn.discriminant_analysis import LinearDiscriminantAnalysis\n",
        "from sklearn.naive_bayes import GaussianNB\n",
        "from sklearn.svm import SVC\n",
        "from sklearn.ensemble import AdaBoostClassifier\n",
        "from sklearn.ensemble import GradientBoostingClassifier\n",
        "from sklearn.ensemble import RandomForestClassifier\n",
        "from sklearn.ensemble import ExtraTreesClassifier\n",
        "#NEW imports\n",
        "import numpy as np\n"
      ]
    },
    {
      "cell_type": "code",
      "execution_count": 70,
      "metadata": {
        "id": "ejBc-TxRqsfA"
      },
      "outputs": [],
      "source": [
        "##Load the dataset\n",
        "#df = pd.read_csv('/content/drive/My Drive/Colab Notebooks/temp/diabetes.csv')\n",
        "\n",
        "#Print the first 5 rows of the dataframe.\n",
        "#df.head()\n",
        "\n",
        "url = \"https://raw.githubusercontent.com/rrichajalota/Pima-Indians-Diabetes-kaggle/master/diabetes.csv\"\n",
        "path = '../Assignment Six/'\n",
        "filename = 'diabetes.csv'\n",
        "names = ['preg', 'plas', 'pres', 'skin', 'test', 'mass', 'pedi', 'age', 'class']\n",
        "\n",
        "dataset = read_csv(path+filename)\n",
        "array = dataset.values\n",
        "X = array[:,0:8]\n",
        "y = array[:,8]\n"
      ]
    },
    {
      "cell_type": "code",
      "execution_count": 71,
      "metadata": {
        "colab": {
          "base_uri": "https://localhost:8080/"
        },
        "id": "7ZgzqgI8MyUK",
        "outputId": "d63be18a-9e8d-4023-ead1-8cff126ef19f"
      },
      "outputs": [
        {
          "name": "stdout",
          "output_type": "stream",
          "text": [
            "(768, 9)\n",
            "Pregnancies                   int64\n",
            "Glucose                       int64\n",
            "BloodPressure                 int64\n",
            "SkinThickness                 int64\n",
            "Insulin                       int64\n",
            "BMI                         float64\n",
            "DiabetesPedigreeFunction    float64\n",
            "Age                           int64\n",
            "Outcome                       int64\n",
            "dtype: object\n",
            "    Pregnancies  Glucose  BloodPressure  SkinThickness  Insulin   BMI  DiabetesPedigreeFunction  \\\n",
            "0             6      148             72             35        0  33.6                     0.627   \n",
            "1             1       85             66             29        0  26.6                     0.351   \n",
            "2             8      183             64              0        0  23.3                     0.672   \n",
            "3             1       89             66             23       94  28.1                     0.167   \n",
            "4             0      137             40             35      168  43.1                     2.288   \n",
            "5             5      116             74              0        0  25.6                     0.201   \n",
            "6             3       78             50             32       88  31.0                     0.248   \n",
            "7            10      115              0              0        0  35.3                     0.134   \n",
            "8             2      197             70             45      543  30.5                     0.158   \n",
            "9             8      125             96              0        0   0.0                     0.232   \n",
            "10            4      110             92              0        0  37.6                     0.191   \n",
            "11           10      168             74              0        0  38.0                     0.537   \n",
            "12           10      139             80              0        0  27.1                     1.441   \n",
            "13            1      189             60             23      846  30.1                     0.398   \n",
            "14            5      166             72             19      175  25.8                     0.587   \n",
            "15            7      100              0              0        0  30.0                     0.484   \n",
            "16            0      118             84             47      230  45.8                     0.551   \n",
            "17            7      107             74              0        0  29.6                     0.254   \n",
            "18            1      103             30             38       83  43.3                     0.183   \n",
            "19            1      115             70             30       96  34.6                     0.529   \n",
            "\n",
            "    Age  Outcome  \n",
            "0    50        1  \n",
            "1    31        0  \n",
            "2    32        1  \n",
            "3    21        0  \n",
            "4    33        1  \n",
            "5    30        0  \n",
            "6    26        1  \n",
            "7    29        0  \n",
            "8    53        1  \n",
            "9    54        1  \n",
            "10   30        0  \n",
            "11   34        1  \n",
            "12   57        0  \n",
            "13   59        1  \n",
            "14   51        1  \n",
            "15   32        1  \n",
            "16   31        1  \n",
            "17   31        1  \n",
            "18   33        0  \n",
            "19   32        1  \n",
            "       Pregnancies  Glucose  BloodPressure  SkinThickness  Insulin      BMI  \\\n",
            "count      768.000  768.000        768.000        768.000  768.000  768.000   \n",
            "mean         3.845  120.895         69.105         20.536   79.799   31.993   \n",
            "std          3.370   31.973         19.356         15.952  115.244    7.884   \n",
            "min          0.000    0.000          0.000          0.000    0.000    0.000   \n",
            "25%          1.000   99.000         62.000          0.000    0.000   27.300   \n",
            "50%          3.000  117.000         72.000         23.000   30.500   32.000   \n",
            "75%          6.000  140.250         80.000         32.000  127.250   36.600   \n",
            "max         17.000  199.000        122.000         99.000  846.000   67.100   \n",
            "\n",
            "       DiabetesPedigreeFunction      Age  Outcome  \n",
            "count                   768.000  768.000  768.000  \n",
            "mean                      0.472   33.241    0.349  \n",
            "std                       0.331   11.760    0.477  \n",
            "min                       0.078   21.000    0.000  \n",
            "25%                       0.244   24.000    0.000  \n",
            "50%                       0.372   29.000    0.000  \n",
            "75%                       0.626   41.000    1.000  \n",
            "max                       2.420   81.000    1.000  \n",
            "Outcome\n",
            "0    500\n",
            "1    268\n",
            "dtype: int64\n"
          ]
        }
      ],
      "source": [
        "# Summarize Data\n",
        "\n",
        "# Descriptive statistics\n",
        "# shape\n",
        "print(dataset.shape)\n",
        "# types\n",
        "set_option('display.max_rows', 500)\n",
        "print(dataset.dtypes)\n",
        "# head\n",
        "set_option('display.width', 100)\n",
        "print(dataset.head(20))\n",
        "# descriptions, change precision to 3 places\n",
        "set_option('display.precision', 3)\n",
        "print(dataset.describe())\n",
        "\n",
        "# # class distribution    # ORITINALLY, NOT WORKING; thus, Outcome(int) is converted to Outcome(str)\n",
        "dataset['Outcome'] = dataset['Outcome'].apply(str)\n",
        "print(dataset.groupby('Outcome').size())"
      ]
    },
    {
      "cell_type": "code",
      "execution_count": 72,
      "metadata": {
        "colab": {
          "base_uri": "https://localhost:8080/",
          "height": 325
        },
        "id": "5hLpe5G9MyPq",
        "outputId": "0ff22f77-d6b8-45cc-c0a4-e557970f0288"
      },
      "outputs": [
        {
          "data": {
            "image/png": "[encoded data removed]",
            "text/plain": [
              "<Figure size 640x480 with 9 Axes>"
            ]
          },
          "metadata": {},
          "output_type": "display_data"
        },
        {
          "data": {
            "image/png": "[encoded data removed]",
            "text/plain": [
              "<Figure size 640x480 with 64 Axes>"
            ]
          },
          "metadata": {},
          "output_type": "display_data"
        }
      ],
      "source": [
        "# Data visualizations\n",
        "\n",
        "# histograms\n",
        "dataset.hist(sharex=False, sharey=False, xlabelsize=1, ylabelsize=1)\n",
        "pyplot.show()\n",
        "# density\n",
        "dataset.plot(kind='density', subplots=True, layout=(8,8), sharex=False, legend=False, fontsize=1)\n",
        "pyplot.show()\n"
      ]
    },
    {
      "cell_type": "code",
      "execution_count": 73,
      "metadata": {
        "colab": {
          "base_uri": "https://localhost:8080/",
          "height": 271
        },
        "id": "q6h2chsjMyJa",
        "outputId": "75e565df-f58d-4cf4-e3cf-fbaf3eee39bb"
      },
      "outputs": [
        {
          "name": "stderr",
          "output_type": "stream",
          "text": [
            "C:\\Users\\amcga\\AppData\\Local\\Temp\\ipykernel_4320\\4238217247.py:4: FutureWarning: The default value of numeric_only in DataFrame.corr is deprecated. In a future version, it will default to False. Select only valid columns or specify the value of numeric_only to silence this warning.\n",
            "  cax = ax.matshow(dataset.corr(), vmin=-1, vmax=1, interpolation='none')\n"
          ]
        },
        {
          "data": {
            "image/png": "[encoded data removed]",
            "text/plain": [
              "<Figure size 640x480 with 2 Axes>"
            ]
          },
          "metadata": {},
          "output_type": "display_data"
        }
      ],
      "source": [
        "# correlation matrix\n",
        "fig = pyplot.figure()\n",
        "ax = fig.add_subplot(111)\n",
        "cax = ax.matshow(dataset.corr(), vmin=-1, vmax=1, interpolation='none')\n",
        "fig.colorbar(cax)\n",
        "pyplot.show()"
      ]
    },
    {
      "cell_type": "code",
      "execution_count": 74,
      "metadata": {
        "id": "2NDt3l6qO1BO"
      },
      "outputs": [],
      "source": [
        "# Prepare Data\n",
        "\n",
        "# Split-out validation dataset\n",
        "array = dataset.values\n",
        "X = array[:,0:8].astype(float)\n",
        "y = array[:,8]\n",
        "validation_size = 0.20\n",
        "seed = 7\n",
        "X_train, X_validation, Y_train, Y_validation = train_test_split(X, y, test_size=validation_size, random_state=seed)\n",
        "\n"
      ]
    },
    {
      "cell_type": "code",
      "execution_count": 75,
      "metadata": {
        "id": "yFHS8nVPO0-V"
      },
      "outputs": [],
      "source": [
        "# Evaluate Algorithms\n",
        "\n",
        "# Test options and evaluation metric\n",
        "num_folds = 10\n",
        "seed = 7\n",
        "scoring = 'accuracy'\n"
      ]
    },
    {
      "cell_type": "code",
      "execution_count": 76,
      "metadata": {
        "colab": {
          "base_uri": "https://localhost:8080/"
        },
        "id": "1Glykom_O07P",
        "outputId": "7c3bda5f-95f7-4765-8684-d0ad6707996a"
      },
      "outputs": [
        {
          "name": "stdout",
          "output_type": "stream",
          "text": [
            "LR: 0.760947 (0.050121)\n",
            "LDA: 0.770756 (0.058514)\n",
            "KNN: 0.710206 (0.049772)\n",
            "CART: 0.677737 (0.040473)\n",
            "NB: 0.749418 (0.041042)\n",
            "SVM: 0.656584 (0.052639)\n",
            "AdaBoost: 0.739662 (0.048027)\n"
          ]
        }
      ],
      "source": [
        "# Spot Check Algorithms\n",
        "models = []\n",
        "models.append(('LR', LogisticRegression(solver='liblinear')))\n",
        "models.append(('LDA', LinearDiscriminantAnalysis()))\n",
        "models.append(('KNN', KNeighborsClassifier()))\n",
        "models.append(('CART', DecisionTreeClassifier()))\n",
        "models.append(('NB', GaussianNB()))\n",
        "models.append(('SVM', SVC(gamma='auto')))\n",
        "models.append(('AdaBoost', AdaBoostClassifier()))\n",
        "results = []\n",
        "names = []\n",
        "for name, model in models:\n",
        "\tkfold = KFold(n_splits=num_folds, random_state=seed, shuffle=True)\n",
        "\tcv_results = cross_val_score(model, X_train, Y_train, cv=kfold, scoring=scoring)\n",
        "\tresults.append(cv_results)\n",
        "\tnames.append(name)\n",
        "\tmsg = \"%s: %f (%f)\" % (name, cv_results.mean(), cv_results.std())\n",
        "\tprint(msg)\n"
      ]
    },
    {
      "cell_type": "code",
      "execution_count": 77,
      "metadata": {
        "colab": {
          "base_uri": "https://localhost:8080/",
          "height": 294
        },
        "id": "hwNfBWVEO03m",
        "outputId": "12fe4dd2-cfea-410d-ecd4-5f0e92faf0ad"
      },
      "outputs": [
        {
          "data": {
            "image/png": "[encoded data removed]",
            "text/plain": [
              "<Figure size 640x480 with 1 Axes>"
            ]
          },
          "metadata": {},
          "output_type": "display_data"
        }
      ],
      "source": [
        "# Compare Algorithms\n",
        "fig = pyplot.figure()\n",
        "fig.suptitle('Algorithm Comparison')\n",
        "ax = fig.add_subplot(111)\n",
        "pyplot.boxplot(results)\n",
        "ax.set_xticklabels(names)\n",
        "pyplot.show()\n"
      ]
    },
    {
      "cell_type": "code",
      "execution_count": 78,
      "metadata": {
        "colab": {
          "base_uri": "https://localhost:8080/"
        },
        "id": "gy4Q1XqRO00d",
        "outputId": "b3e9bd8a-eb6e-47a3-dd1d-5e52821b565f"
      },
      "outputs": [
        {
          "name": "stdout",
          "output_type": "stream",
          "text": [
            "ScaledLR: 0.767425 (0.050332)\n",
            "ScaledLDA: 0.770756 (0.058514)\n",
            "ScaledKNN: 0.724881 (0.046641)\n",
            "ScaledCART: 0.684268 (0.057206)\n",
            "ScaledNB: 0.749418 (0.041042)\n",
            "ScaledSVM: 0.743046 (0.051903)\n",
            "ScaledAdaBoost: 0.739662 (0.048027)\n"
          ]
        }
      ],
      "source": [
        "# Standardize the dataset\n",
        "pipelines = []\n",
        "pipelines.append(('ScaledLR', Pipeline([('Scaler', StandardScaler()),('LR', LogisticRegression(solver='liblinear'))])))\n",
        "pipelines.append(('ScaledLDA', Pipeline([('Scaler', StandardScaler()),('LDA', LinearDiscriminantAnalysis())])))\n",
        "pipelines.append(('ScaledKNN', Pipeline([('Scaler', StandardScaler()),('KNN', KNeighborsClassifier())])))\n",
        "pipelines.append(('ScaledCART', Pipeline([('Scaler', StandardScaler()),('CART', DecisionTreeClassifier())])))\n",
        "pipelines.append(('ScaledNB', Pipeline([('Scaler', StandardScaler()),('NB', GaussianNB())])))\n",
        "pipelines.append(('ScaledSVM', Pipeline([('Scaler', StandardScaler()),('SVM', SVC(gamma='auto'))])))\n",
        "pipelines.append(('ScaledAdaBoost', Pipeline([('Scaler', StandardScaler()),('AdaBoost', AdaBoostClassifier())])))\n",
        "results = []\n",
        "names = []\n",
        "for name, model in pipelines:\n",
        "\tkfold = KFold(n_splits=num_folds, random_state=seed, shuffle=True)\n",
        "\tcv_results = cross_val_score(model, X_train, Y_train, cv=kfold, scoring=scoring)\n",
        "\tresults.append(cv_results)\n",
        "\tnames.append(name)\n",
        "\tmsg = \"%s: %f (%f)\" % (name, cv_results.mean(), cv_results.std())\n",
        "\tprint(msg)\n"
      ]
    },
    {
      "cell_type": "code",
      "execution_count": 79,
      "metadata": {
        "colab": {
          "base_uri": "https://localhost:8080/",
          "height": 294
        },
        "id": "E6G1Gx8AO0wk",
        "outputId": "4201e791-3472-49f9-c03b-a9e7f490fce8"
      },
      "outputs": [
        {
          "data": {
            "image/png": "[encoded data removed]",
            "text/plain": [
              "<Figure size 640x480 with 1 Axes>"
            ]
          },
          "metadata": {},
          "output_type": "display_data"
        }
      ],
      "source": [
        "# Compare Algorithms\n",
        "fig = pyplot.figure()\n",
        "fig.suptitle('Scaled Algorithm Comparison')\n",
        "ax = fig.add_subplot(111)\n",
        "pyplot.boxplot(results)\n",
        "ax.set_xticklabels(names)\n",
        "pyplot.show()\n"
      ]
    },
    {
      "cell_type": "code",
      "execution_count": 80,
      "metadata": {
        "colab": {
          "base_uri": "https://localhost:8080/"
        },
        "id": "oPg8FY91PcvU",
        "outputId": "959d1438-fa72-47c1-eb41-8f481d5a0e16"
      },
      "outputs": [
        {
          "name": "stdout",
          "output_type": "stream",
          "text": [
            "Best: 0.733078 using {'n_neighbors': 17}\n",
            "0.693760 (0.028478) with: {'n_neighbors': 1}\n",
            "0.723083 (0.048219) with: {'n_neighbors': 3}\n",
            "0.723268 (0.048010) with: {'n_neighbors': 5}\n",
            "0.711898 (0.051870) with: {'n_neighbors': 7}\n",
            "0.718350 (0.046818) with: {'n_neighbors': 9}\n",
            "0.721682 (0.043955) with: {'n_neighbors': 11}\n",
            "0.705394 (0.043927) with: {'n_neighbors': 13}\n",
            "0.728318 (0.051346) with: {'n_neighbors': 15}\n",
            "0.733078 (0.038673) with: {'n_neighbors': 17}\n",
            "0.725013 (0.054130) with: {'n_neighbors': 19}\n",
            "0.723480 (0.059549) with: {'n_neighbors': 21}\n"
          ]
        }
      ],
      "source": [
        "# Tune scaled KNN\n",
        "scaler = StandardScaler().fit(X_train)\n",
        "rescaledX = scaler.transform(X_train)\n",
        "neighbors = [1,3,5,7,9,11,13,15,17,19,21]\n",
        "param_grid = dict(n_neighbors=neighbors)\n",
        "model = KNeighborsClassifier()\n",
        "kfold = KFold(n_splits=num_folds, random_state=seed, shuffle=True)\n",
        "grid = GridSearchCV(estimator=model, param_grid=param_grid, scoring=scoring, cv=kfold)\n",
        "grid_result = grid.fit(rescaledX, Y_train)\n",
        "print(\"Best: %f using %s\" % (grid_result.best_score_, grid_result.best_params_))\n",
        "means = grid_result.cv_results_['mean_test_score']\n",
        "stds = grid_result.cv_results_['std_test_score']\n",
        "params = grid_result.cv_results_['params']\n",
        "for mean, stdev, param in zip(means, stds, params):\n",
        "    print(\"%f (%f) with: %r\" % (mean, stdev, param))\n"
      ]
    },
    {
      "cell_type": "code",
      "execution_count": 81,
      "metadata": {
        "colab": {
          "base_uri": "https://localhost:8080/"
        },
        "id": "jr3N9C7pPcsM",
        "outputId": "cdc775a0-4bdd-43ae-d633-0febad5799ca"
      },
      "outputs": [
        {
          "name": "stdout",
          "output_type": "stream",
          "text": [
            "Best: 0.769064 using {'C': 0.1, 'kernel': 'linear'}\n",
            "0.769064 (0.047491) with: {'C': 0.1, 'kernel': 'linear'}\n",
            "0.715177 (0.053064) with: {'C': 0.1, 'kernel': 'poly'}\n",
            "0.700635 (0.059778) with: {'C': 0.1, 'kernel': 'rbf'}\n",
            "0.757641 (0.048427) with: {'C': 0.1, 'kernel': 'sigmoid'}\n",
            "0.765812 (0.048219) with: {'C': 0.3, 'kernel': 'linear'}\n",
            "0.731438 (0.045649) with: {'C': 0.3, 'kernel': 'poly'}\n",
            "0.754416 (0.047183) with: {'C': 0.3, 'kernel': 'rbf'}\n",
            "0.744527 (0.034686) with: {'C': 0.3, 'kernel': 'sigmoid'}\n",
            "0.765812 (0.048219) with: {'C': 0.5, 'kernel': 'linear'}\n",
            "0.734744 (0.052342) with: {'C': 0.5, 'kernel': 'poly'}\n",
            "0.751137 (0.044750) with: {'C': 0.5, 'kernel': 'rbf'}\n",
            "0.754257 (0.030519) with: {'C': 0.5, 'kernel': 'sigmoid'}\n",
            "0.764199 (0.048718) with: {'C': 0.7, 'kernel': 'linear'}\n",
            "0.733210 (0.054412) with: {'C': 0.7, 'kernel': 'poly'}\n",
            "0.742993 (0.046810) with: {'C': 0.7, 'kernel': 'rbf'}\n",
            "0.744368 (0.028586) with: {'C': 0.7, 'kernel': 'sigmoid'}\n",
            "0.764199 (0.048718) with: {'C': 0.9, 'kernel': 'linear'}\n",
            "0.733210 (0.056828) with: {'C': 0.9, 'kernel': 'poly'}\n",
            "0.741354 (0.046679) with: {'C': 0.9, 'kernel': 'rbf'}\n",
            "0.726415 (0.030536) with: {'C': 0.9, 'kernel': 'sigmoid'}\n",
            "0.762559 (0.048755) with: {'C': 1.0, 'kernel': 'linear'}\n",
            "0.731571 (0.056437) with: {'C': 1.0, 'kernel': 'poly'}\n",
            "0.739767 (0.050566) with: {'C': 1.0, 'kernel': 'rbf'}\n",
            "0.734532 (0.028305) with: {'C': 1.0, 'kernel': 'sigmoid'}\n",
            "0.762559 (0.048755) with: {'C': 1.3, 'kernel': 'linear'}\n",
            "0.729878 (0.049699) with: {'C': 1.3, 'kernel': 'poly'}\n",
            "0.739741 (0.051710) with: {'C': 1.3, 'kernel': 'rbf'}\n",
            "0.711793 (0.041593) with: {'C': 1.3, 'kernel': 'sigmoid'}\n",
            "0.762559 (0.048755) with: {'C': 1.5, 'kernel': 'linear'}\n",
            "0.728265 (0.052600) with: {'C': 1.5, 'kernel': 'poly'}\n",
            "0.738102 (0.050433) with: {'C': 1.5, 'kernel': 'rbf'}\n",
            "0.716711 (0.035021) with: {'C': 1.5, 'kernel': 'sigmoid'}\n",
            "0.762559 (0.048755) with: {'C': 1.7, 'kernel': 'linear'}\n",
            "0.728292 (0.052417) with: {'C': 1.7, 'kernel': 'poly'}\n",
            "0.739688 (0.050964) with: {'C': 1.7, 'kernel': 'rbf'}\n",
            "0.708567 (0.036603) with: {'C': 1.7, 'kernel': 'sigmoid'}\n",
            "0.762559 (0.048755) with: {'C': 2.0, 'kernel': 'linear'}\n",
            "0.723453 (0.067480) with: {'C': 2.0, 'kernel': 'poly'}\n",
            "0.739714 (0.051851) with: {'C': 2.0, 'kernel': 'rbf'}\n",
            "0.708488 (0.028426) with: {'C': 2.0, 'kernel': 'sigmoid'}\n"
          ]
        }
      ],
      "source": [
        "# Tune scaled SVM\n",
        "scaler = StandardScaler().fit(X_train)\n",
        "rescaledX = scaler.transform(X_train)\n",
        "c_values = [0.1, 0.3, 0.5, 0.7, 0.9, 1.0, 1.3, 1.5, 1.7, 2.0]\n",
        "kernel_values = ['linear', 'poly', 'rbf', 'sigmoid']\n",
        "param_grid = dict(C=c_values, kernel=kernel_values)\n",
        "model = SVC(gamma='auto')\n",
        "kfold = KFold(n_splits=num_folds, random_state=seed, shuffle=True)\n",
        "grid = GridSearchCV(estimator=model, param_grid=param_grid, scoring=scoring, cv=kfold)\n",
        "grid_result = grid.fit(rescaledX, Y_train)\n",
        "print(\"Best: %f using %s\" % (grid_result.best_score_, grid_result.best_params_))\n",
        "means = grid_result.cv_results_['mean_test_score']\n",
        "stds = grid_result.cv_results_['std_test_score']\n",
        "params = grid_result.cv_results_['params']\n",
        "for mean, stdev, param in zip(means, stds, params):\n",
        "    print(\"%f (%f) with: %r\" % (mean, stdev, param))\n"
      ]
    },
    {
      "cell_type": "code",
      "execution_count": 82,
      "metadata": {
        "id": "BskvryVZPcFI"
      },
      "outputs": [],
      "source": [
        "#NEW function to tune a given scaled model\n",
        "def tuneScaledModel(model, param_grid):\n",
        "    scaler = StandardScaler().fit(X_train)\n",
        "    rescaledX = scaler.transform(X_train)\n",
        "    kfold = KFold(n_splits=num_folds, random_state=seed, shuffle=True)\n",
        "    grid = GridSearchCV(estimator=model, param_grid=param_grid, scoring=scoring, cv=kfold)\n",
        "    grid_result = grid.fit(rescaledX, Y_train)\n",
        "    print(\"Best: %f using %s\" % (grid_result.best_score_, grid_result.best_params_))\n",
        "    means = grid_result.cv_results_['mean_test_score']\n",
        "    stds = grid_result.cv_results_['std_test_score']\n",
        "    params = grid_result.cv_results_['params']\n",
        "    for mean, stdev, param in zip(means, stds, params):\n",
        "        print(\"%f (%f) with: %r\" % (mean, stdev, param))"
      ]
    },
    {
      "cell_type": "code",
      "execution_count": 83,
      "metadata": {},
      "outputs": [
        {
          "name": "stdout",
          "output_type": "stream",
          "text": [
            "Best: 0.767425 using {'C': 0.7}\n",
            "0.764146 (0.049990) with: {'C': 0.1}\n",
            "0.765812 (0.052374) with: {'C': 0.3}\n",
            "0.765812 (0.050348) with: {'C': 0.5}\n",
            "0.767425 (0.050332) with: {'C': 0.7}\n",
            "0.767425 (0.050332) with: {'C': 0.9}\n",
            "0.767425 (0.050332) with: {'C': 1.0}\n",
            "0.764146 (0.049485) with: {'C': 1.3}\n",
            "0.764146 (0.049485) with: {'C': 1.5}\n",
            "0.764146 (0.049485) with: {'C': 1.7}\n",
            "0.764146 (0.049485) with: {'C': 2.0}\n"
          ]
        }
      ],
      "source": [
        "#apply tuneScaledModel to all models\n",
        "\n",
        "# Tune scaled LR\n",
        "param_grid = dict(C=np.array([0.1, 0.3, 0.5, 0.7, 0.9, 1.0, 1.3, 1.5, 1.7, 2.0]))\n",
        "model = LogisticRegression(solver='liblinear')\n",
        "tuneScaledModel(model, param_grid)"
      ]
    },
    {
      "cell_type": "code",
      "execution_count": 84,
      "metadata": {},
      "outputs": [
        {
          "name": "stdout",
          "output_type": "stream",
          "text": [
            "Best: 0.770756 using {'solver': 'svd'}\n",
            "0.770756 (0.058514) with: {'solver': 'svd'}\n",
            "0.769117 (0.056868) with: {'solver': 'lsqr'}\n",
            "0.769117 (0.056868) with: {'solver': 'eigen'}\n"
          ]
        }
      ],
      "source": [
        "# Tune scaled LDA\n",
        "param_grid = dict(solver=['svd', 'lsqr', 'eigen'])\n",
        "model = LinearDiscriminantAnalysis()\n",
        "tuneScaledModel(model, param_grid)"
      ]
    },
    {
      "cell_type": "code",
      "execution_count": 85,
      "metadata": {},
      "outputs": [
        {
          "name": "stdout",
          "output_type": "stream",
          "text": [
            "Best: 0.733078 using {'n_neighbors': 17}\n",
            "0.693760 (0.028478) with: {'n_neighbors': 1}\n",
            "0.723083 (0.048219) with: {'n_neighbors': 3}\n",
            "0.723268 (0.048010) with: {'n_neighbors': 5}\n",
            "0.711898 (0.051870) with: {'n_neighbors': 7}\n",
            "0.718350 (0.046818) with: {'n_neighbors': 9}\n",
            "0.721682 (0.043955) with: {'n_neighbors': 11}\n",
            "0.705394 (0.043927) with: {'n_neighbors': 13}\n",
            "0.728318 (0.051346) with: {'n_neighbors': 15}\n",
            "0.733078 (0.038673) with: {'n_neighbors': 17}\n",
            "0.725013 (0.054130) with: {'n_neighbors': 19}\n",
            "0.723480 (0.059549) with: {'n_neighbors': 21}\n"
          ]
        }
      ],
      "source": [
        "# Tune scaled KNN\n",
        "param_grid = dict(n_neighbors=neighbors)\n",
        "model = KNeighborsClassifier()\n",
        "tuneScaledModel(model, param_grid)"
      ]
    },
    {
      "cell_type": "code",
      "execution_count": 86,
      "metadata": {},
      "outputs": [
        {
          "name": "stdout",
          "output_type": "stream",
          "text": [
            "Best: 0.742940 using {'criterion': 'gini', 'max_depth': 2}\n",
            "0.742940 (0.048287) with: {'criterion': 'gini', 'max_depth': 2}\n",
            "0.708752 (0.043083) with: {'criterion': 'gini', 'max_depth': 4}\n",
            "0.715389 (0.065691) with: {'criterion': 'gini', 'max_depth': 6}\n",
            "0.690904 (0.065270) with: {'criterion': 'gini', 'max_depth': 8}\n",
            "0.687652 (0.060844) with: {'criterion': 'gini', 'max_depth': 10}\n",
            "0.679376 (0.051691) with: {'criterion': 'gini', 'max_depth': 12}\n",
            "0.679482 (0.059574) with: {'criterion': 'gini', 'max_depth': 14}\n",
            "0.677842 (0.066557) with: {'criterion': 'gini', 'max_depth': 16}\n",
            "0.677816 (0.055449) with: {'criterion': 'gini', 'max_depth': 18}\n",
            "0.677869 (0.063660) with: {'criterion': 'gini', 'max_depth': 20}\n",
            "0.732998 (0.042692) with: {'criterion': 'entropy', 'max_depth': 2}\n",
            "0.708805 (0.050151) with: {'criterion': 'entropy', 'max_depth': 4}\n",
            "0.710312 (0.057920) with: {'criterion': 'entropy', 'max_depth': 6}\n",
            "0.708831 (0.060645) with: {'criterion': 'entropy', 'max_depth': 8}\n",
            "0.692623 (0.072200) with: {'criterion': 'entropy', 'max_depth': 10}\n",
            "0.687626 (0.055845) with: {'criterion': 'entropy', 'max_depth': 12}\n",
            "0.689371 (0.071652) with: {'criterion': 'entropy', 'max_depth': 14}\n",
            "0.678027 (0.084288) with: {'criterion': 'entropy', 'max_depth': 16}\n",
            "0.686039 (0.068832) with: {'criterion': 'entropy', 'max_depth': 18}\n",
            "0.692570 (0.072008) with: {'criterion': 'entropy', 'max_depth': 20}\n"
          ]
        }
      ],
      "source": [
        "# Tune scaled Decision Tree\n",
        "param_grid = dict(criterion=['gini', 'entropy'], max_depth=[2, 4, 6, 8, 10, 12, 14, 16, 18, 20])\n",
        "model = DecisionTreeClassifier()\n",
        "tuneScaledModel(model, param_grid)"
      ]
    },
    {
      "cell_type": "code",
      "execution_count": 87,
      "metadata": {},
      "outputs": [
        {
          "name": "stdout",
          "output_type": "stream",
          "text": [
            "Best: 0.751031 using {'var_smoothing': 0.01}\n",
            "0.749418 (0.041042) with: {'var_smoothing': 1e-09}\n",
            "0.749418 (0.041042) with: {'var_smoothing': 1e-08}\n",
            "0.749418 (0.041042) with: {'var_smoothing': 1e-07}\n",
            "0.749418 (0.041042) with: {'var_smoothing': 1e-06}\n",
            "0.749418 (0.041042) with: {'var_smoothing': 1e-05}\n",
            "0.749418 (0.041042) with: {'var_smoothing': 0.0001}\n",
            "0.749418 (0.041042) with: {'var_smoothing': 0.001}\n",
            "0.751031 (0.041033) with: {'var_smoothing': 0.01}\n",
            "0.751005 (0.035007) with: {'var_smoothing': 0.1}\n",
            "0.725040 (0.044532) with: {'var_smoothing': 1.0}\n"
          ]
        }
      ],
      "source": [
        "# Tune scaled NB\n",
        "param_grid = dict(var_smoothing=np.array([1e-9, 1e-8, 1e-7, 1e-6, 1e-5, 1e-4, 1e-3, 1e-2, 1e-1, 1]))\n",
        "model = GaussianNB()\n",
        "tuneScaledModel(model, param_grid)"
      ]
    },
    {
      "cell_type": "code",
      "execution_count": 88,
      "metadata": {},
      "outputs": [
        {
          "name": "stdout",
          "output_type": "stream",
          "text": [
            "Best: 0.769064 using {'C': 0.1, 'kernel': 'linear'}\n",
            "0.769064 (0.047491) with: {'C': 0.1, 'kernel': 'linear'}\n",
            "0.715177 (0.053064) with: {'C': 0.1, 'kernel': 'poly'}\n",
            "0.700635 (0.059778) with: {'C': 0.1, 'kernel': 'rbf'}\n",
            "0.757641 (0.048427) with: {'C': 0.1, 'kernel': 'sigmoid'}\n",
            "0.765812 (0.048219) with: {'C': 0.3, 'kernel': 'linear'}\n",
            "0.731438 (0.045649) with: {'C': 0.3, 'kernel': 'poly'}\n",
            "0.754416 (0.047183) with: {'C': 0.3, 'kernel': 'rbf'}\n",
            "0.744527 (0.034686) with: {'C': 0.3, 'kernel': 'sigmoid'}\n",
            "0.765812 (0.048219) with: {'C': 0.5, 'kernel': 'linear'}\n",
            "0.734744 (0.052342) with: {'C': 0.5, 'kernel': 'poly'}\n",
            "0.751137 (0.044750) with: {'C': 0.5, 'kernel': 'rbf'}\n",
            "0.754257 (0.030519) with: {'C': 0.5, 'kernel': 'sigmoid'}\n",
            "0.764199 (0.048718) with: {'C': 0.7, 'kernel': 'linear'}\n",
            "0.733210 (0.054412) with: {'C': 0.7, 'kernel': 'poly'}\n",
            "0.742993 (0.046810) with: {'C': 0.7, 'kernel': 'rbf'}\n",
            "0.744368 (0.028586) with: {'C': 0.7, 'kernel': 'sigmoid'}\n",
            "0.764199 (0.048718) with: {'C': 0.9, 'kernel': 'linear'}\n",
            "0.733210 (0.056828) with: {'C': 0.9, 'kernel': 'poly'}\n",
            "0.741354 (0.046679) with: {'C': 0.9, 'kernel': 'rbf'}\n",
            "0.726415 (0.030536) with: {'C': 0.9, 'kernel': 'sigmoid'}\n",
            "0.762559 (0.048755) with: {'C': 1.0, 'kernel': 'linear'}\n",
            "0.731571 (0.056437) with: {'C': 1.0, 'kernel': 'poly'}\n",
            "0.739767 (0.050566) with: {'C': 1.0, 'kernel': 'rbf'}\n",
            "0.734532 (0.028305) with: {'C': 1.0, 'kernel': 'sigmoid'}\n",
            "0.762559 (0.048755) with: {'C': 1.3, 'kernel': 'linear'}\n",
            "0.729878 (0.049699) with: {'C': 1.3, 'kernel': 'poly'}\n",
            "0.739741 (0.051710) with: {'C': 1.3, 'kernel': 'rbf'}\n",
            "0.711793 (0.041593) with: {'C': 1.3, 'kernel': 'sigmoid'}\n",
            "0.762559 (0.048755) with: {'C': 1.5, 'kernel': 'linear'}\n",
            "0.728265 (0.052600) with: {'C': 1.5, 'kernel': 'poly'}\n",
            "0.738102 (0.050433) with: {'C': 1.5, 'kernel': 'rbf'}\n",
            "0.716711 (0.035021) with: {'C': 1.5, 'kernel': 'sigmoid'}\n",
            "0.762559 (0.048755) with: {'C': 1.7, 'kernel': 'linear'}\n",
            "0.728292 (0.052417) with: {'C': 1.7, 'kernel': 'poly'}\n",
            "0.739688 (0.050964) with: {'C': 1.7, 'kernel': 'rbf'}\n",
            "0.708567 (0.036603) with: {'C': 1.7, 'kernel': 'sigmoid'}\n",
            "0.762559 (0.048755) with: {'C': 2.0, 'kernel': 'linear'}\n",
            "0.723453 (0.067480) with: {'C': 2.0, 'kernel': 'poly'}\n",
            "0.739714 (0.051851) with: {'C': 2.0, 'kernel': 'rbf'}\n",
            "0.708488 (0.028426) with: {'C': 2.0, 'kernel': 'sigmoid'}\n"
          ]
        }
      ],
      "source": [
        "# Tune scaled SVM\n",
        "param_grid = dict(C=c_values, kernel=kernel_values)\n",
        "model = SVC(gamma='auto')\n",
        "tuneScaledModel(model, param_grid)"
      ]
    },
    {
      "cell_type": "code",
      "execution_count": 89,
      "metadata": {},
      "outputs": [
        {
          "name": "stdout",
          "output_type": "stream",
          "text": [
            "Best: 0.739662 using {'n_estimators': 50}\n",
            "0.739662 (0.048027) with: {'n_estimators': 50}\n",
            "0.729931 (0.048921) with: {'n_estimators': 100}\n",
            "0.723295 (0.043976) with: {'n_estimators': 150}\n",
            "0.710286 (0.049238) with: {'n_estimators': 200}\n",
            "0.707033 (0.051907) with: {'n_estimators': 250}\n",
            "0.716790 (0.055590) with: {'n_estimators': 300}\n",
            "0.708646 (0.049186) with: {'n_estimators': 350}\n",
            "0.698942 (0.054165) with: {'n_estimators': 400}\n"
          ]
        }
      ],
      "source": [
        "# Tune scaled AdaBoost\n",
        "param_grid = dict(n_estimators=np.array([50, 100, 150, 200, 250, 300, 350, 400]))\n",
        "model = AdaBoostClassifier()\n",
        "tuneScaledModel(model, param_grid)"
      ]
    },
    {
      "cell_type": "markdown",
      "metadata": {},
      "source": [
        "LDA has the best performance using the svd solver, at 0.770756, but has a standard deviation of 0.058514"
      ]
    },
    {
      "cell_type": "code",
      "execution_count": 90,
      "metadata": {
        "colab": {
          "base_uri": "https://localhost:8080/"
        },
        "id": "794cieQhmTOW",
        "outputId": "d5315659-246c-49d3-d9d7-643116e172be"
      },
      "outputs": [
        {
          "name": "stdout",
          "output_type": "stream",
          "text": [
            "0.7768729641693811\n",
            "0.7922077922077922\n",
            "0.7922077922077922\n"
          ]
        }
      ],
      "source": [
        "# Save Model Using Pickle\n",
        "from pandas import read_csv\n",
        "from sklearn.model_selection import train_test_split\n",
        "from sklearn.linear_model import LogisticRegression\n",
        "from pickle import dump\n",
        "from pickle import load\n",
        "\n",
        "X_train, X_test, y_train, y_test = train_test_split(X, y, test_size=0.2, random_state=7)\n",
        "\n",
        "# Fit the model on 80%\n",
        "model = LogisticRegression(solver='liblinear')\n",
        "model.fit(X_train, y_train)\n",
        "result = model.score(X_train, y_train)\n",
        "print(result)\n",
        "result = model.score(X_test, y_test)\n",
        "print(result)\n",
        "\n",
        "# save the model to disk\n",
        "filename = 'finalized_model_pickle.sav'\n",
        "filename = path + filename\n",
        "dump(model, open(filename, 'wb'))\n",
        "\n",
        "# some time later...\n",
        "import time\n",
        "time.sleep(5)\n",
        "# load the model from disk\n",
        "loaded_model = load(open(filename, 'rb'))\n",
        "result = loaded_model.score(X_test, y_test)\n",
        "print(result)"
      ]
    },
    {
      "cell_type": "code",
      "execution_count": 91,
      "metadata": {
        "colab": {
          "base_uri": "https://localhost:8080/"
        },
        "id": "lFWN0dGerLjL",
        "outputId": "5c5f994f-a20a-4bf3-a60e-ccfb788d776f"
      },
      "outputs": [
        {
          "name": "stdout",
          "output_type": "stream",
          "text": [
            "0.7768729641693811\n",
            "0.7922077922077922\n",
            "0.7922077922077922\n"
          ]
        }
      ],
      "source": [
        "# Save Model Using joblib\n",
        "from pandas import read_csv\n",
        "from sklearn.model_selection import train_test_split\n",
        "from sklearn.linear_model import LogisticRegression\n",
        "from joblib import dump\n",
        "from joblib import load\n",
        "\n",
        "X_train, X_test, y_train, y_test = train_test_split(X, y, test_size=0.2, random_state=7)\n",
        "\n",
        "# Fit the model on 80%\n",
        "model = LogisticRegression(solver='liblinear')\n",
        "model.fit(X_train, y_train)\n",
        "result = model.score(X_train, y_train)\n",
        "print(result)\n",
        "result = model.score(X_test, y_test)\n",
        "print(result)\n",
        "\n",
        "# save the model to disk\n",
        "filename = 'finalized_model_joblib.sav'\n",
        "filename = path + filename\n",
        "dump(model, filename)\n",
        "\n",
        "# some time later...\n",
        "import time\n",
        "time.sleep(5)\n",
        "# load the model from disk\n",
        "loaded_model = load(filename)\n",
        "result = loaded_model.score(X_test, y_test)\n",
        "print(result)\n"
      ]
    },
    {
      "cell_type": "code",
      "execution_count": 94,
      "metadata": {
        "id": "zW4qoxmTC9ka"
      },
      "outputs": [
        {
          "name": "stdout",
          "output_type": "stream",
          "text": [
            "0.7817589576547231\n",
            "0.7922077922077922\n",
            "0.7922077922077922\n"
          ]
        }
      ],
      "source": [
        "#NEW save the best performing model using joblib\n",
        "from pandas import read_csv\n",
        "from sklearn.model_selection import train_test_split\n",
        "from sklearn.discriminant_analysis import LinearDiscriminantAnalysis\n",
        "from joblib import dump\n",
        "from joblib import load\n",
        "\n",
        "X_train, X_test, y_train, y_test = train_test_split(X, y, test_size=0.2, random_state=7)\n",
        "\n",
        "# Fit the model on 80%\n",
        "model = LinearDiscriminantAnalysis(solver='svd')\n",
        "model.fit(X_train, y_train)\n",
        "result = model.score(X_train, y_train)\n",
        "print(result)\n",
        "result = model.score(X_test, y_test)\n",
        "print(result)\n",
        "\n",
        "# save the model to disk\n",
        "filename = 'finalized_model_joblib.sav'\n",
        "filename = path + filename\n",
        "dump(model, filename)\n",
        "\n",
        "# some time later...\n",
        "import time\n",
        "time.sleep(5)\n",
        "# load the model from disk\n",
        "loaded_model = load(filename)\n",
        "result = loaded_model.score(X_test, y_test)\n",
        "print(result)"
      ]
    },
    {
      "cell_type": "markdown",
      "metadata": {},
      "source": [
        "While LDA has the best training score, it has the same test score as the originally saved logistical regression. For further analysis I will preprocess the data and use the logistical regression."
      ]
    },
    {
      "cell_type": "code",
      "execution_count": 110,
      "metadata": {},
      "outputs": [],
      "source": [
        "#NEW preprocessing data before making predictions\n",
        "import pandas as pd\n",
        "#removing invalid instances (where the glucose is 0, the blood pressure is 0, \n",
        "# the skin thickness is zero, or the insulin is 0, or the BMI is 0)\n",
        "array = dataset.values\n",
        "from sklearn.impute import SimpleImputer as Imputer\n",
        "imputer = Imputer(missing_values=0, strategy='constant', fill_value=np.nan)\n",
        "imputer = imputer.fit(array[:,1:6])\n",
        "array[:,1:6] = imputer.transform(array[:,1:6])\n",
        "\n",
        "#Get rid of the rows with Nan values except for the outcome column\n",
        "dataset = pd.DataFrame(array)\n",
        "dataset = dataset.dropna()\n",
        "array = dataset.values\n",
        "#split into input (X) and output (y) variables\n",
        "X = array[:,0:8]\n",
        "y = array[:,8]"
      ]
    },
    {
      "cell_type": "code",
      "execution_count": 111,
      "metadata": {},
      "outputs": [
        {
          "name": "stdout",
          "output_type": "stream",
          "text": [
            "0.7955271565495208\n",
            "0.759493670886076\n",
            "0.759493670886076\n"
          ]
        }
      ],
      "source": [
        "#NEW save the best performing model using joblib\n",
        "from pandas import read_csv\n",
        "from sklearn.model_selection import train_test_split\n",
        "from sklearn.discriminant_analysis import LinearDiscriminantAnalysis\n",
        "from joblib import dump\n",
        "from joblib import load\n",
        "\n",
        "X_train, X_test, y_train, y_test = train_test_split(X, y, test_size=0.2, random_state=7)\n",
        "\n",
        "# Fit the model on 80%\n",
        "model = LinearDiscriminantAnalysis(solver='svd')\n",
        "model.fit(X_train, y_train)\n",
        "result = model.score(X_train, y_train)\n",
        "print(result)\n",
        "result = model.score(X_test, y_test)\n",
        "print(result)\n",
        "\n",
        "# save the model to disk\n",
        "filename = 'finalized_model_joblib.sav'\n",
        "filename = path + filename\n",
        "dump(model, filename)\n",
        "\n",
        "# some time later...\n",
        "import time\n",
        "time.sleep(5)\n",
        "# load the model from disk\n",
        "loaded_model = load(filename)\n",
        "result = loaded_model.score(X_test, y_test)\n",
        "print(result)"
      ]
    },
    {
      "cell_type": "markdown",
      "metadata": {},
      "source": [
        "Even Though the model did really good with the training data, it did not do as well with the test data. This is a sign of overfitting. In the future I will try to use a different model or use a different preprocessing method."
      ]
    }
  ],
  "metadata": {
    "colab": {
      "collapsed_sections": [],
      "provenance": []
    },
    "kernelspec": {
      "display_name": "Python 3.10.8 64-bit (microsoft store)",
      "language": "python",
      "name": "python3"
    },
    "language_info": {
      "codemirror_mode": {
        "name": "ipython",
        "version": 3
      },
      "file_extension": ".py",
      "mimetype": "text/x-python",
      "name": "python",
      "nbconvert_exporter": "python",
      "pygments_lexer": "ipython3",
      "version": "3.10.8"
    },
    "vscode": {
      "interpreter": {
        "hash": "e0acaf148705ed9ed86cc5cad12259d7985e30670e5686e5f55604a9b3b84a55"
      }
    }
  },
  "nbformat": 4,
  "nbformat_minor": 0
}
