{
  "cells": [
    {
      "cell_type": "markdown",
      "metadata": {
        "id": "kcKJLPKq0oJi"
      },
      "source": [
        "# **Python Project Template**\n",
        "\n",
        "####Based on Chapter 18. Predictive Modeling Project Template\n",
        "####of *Machne Learning Mastery with Python*\n",
        "####by Dr. Jason Brownlee"
      ]
    },
    {
      "cell_type": "markdown",
      "metadata": {
        "id": "E7bGYohh6nML"
      },
      "source": [
        "# Six common tasks for a predictive modeling machine learning project\n",
        "## 1. Define Problem\n",
        "## 2. Summarize Data\n",
        "## 3. Prepare Data\n",
        "## 4. Evaluate Algorithms\n",
        "## 5. Improve Results\n",
        "## 6. Present Results"
      ]
    },
    {
      "cell_type": "markdown",
      "metadata": {
        "id": "gCkflTJLzxQp"
      },
      "source": [
        "# **1. Prepare Problem**\n",
        "## a) Load libraries\n",
        "## b) Load dataset"
      ]
    },
    {
      "cell_type": "markdown",
      "metadata": {
        "id": "PqDQv-mQ_U4v"
      },
      "source": [
        "# **2. Summarize Data**\n",
        "## a) Descriptive statistics\n",
        "## b) Data visualizations"
      ]
    },
    {
      "cell_type": "markdown",
      "metadata": {
        "id": "5xyVS4MO_biX"
      },
      "source": [
        "# **3. Prepare Data**\n",
        "## a) Data Cleaning\n",
        "## b) Feature Selection\n",
        "## c) Data Transforms"
      ]
    },
    {
      "cell_type": "markdown",
      "metadata": {
        "id": "16smlNRG_jQu"
      },
      "source": [
        "# **4. Evaluate Algorithms**\n",
        "## a) Split-out validation dataset\n",
        "## b) Test options and evaluation metric\n",
        "## c) Spot Check Algorithms\n",
        "## d) Compare Algorithms\n"
      ]
    },
    {
      "cell_type": "markdown",
      "metadata": {
        "id": "m5cEku_7_na_"
      },
      "source": [
        "# **5. Improve Accuracy**\n",
        "## a) Algorithm Tuning\n",
        "## b) Ensembles\n"
      ]
    },
    {
      "cell_type": "markdown",
      "metadata": {
        "id": "xqWb58gZ_sdX"
      },
      "source": [
        "\n",
        "# **6. Finalize Model**\n",
        "## a) Predictions on validation dataset\n",
        "## b) Create standalone model on entire training dataset\n",
        "## c) Save model for later use\n"
      ]
    }
  ],
  "metadata": {
    "colab": {
      "collapsed_sections": [],
      "provenance": []
    },
    "kernelspec": {
      "display_name": "Python 3.10.8 64-bit (microsoft store)",
      "language": "python",
      "name": "python3"
    },
    "language_info": {
      "name": "python",
      "version": "3.10.8"
    },
    "vscode": {
      "interpreter": {
        "hash": "25023e466fa3735353441a9750ec1431f91af0e07709d75994f3b2db92047dd9"
      }
    }
  },
  "nbformat": 4,
  "nbformat_minor": 0
}
