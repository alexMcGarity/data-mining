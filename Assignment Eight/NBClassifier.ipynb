{
 "cells": [
  {
   "cell_type": "markdown",
   "metadata": {},
   "source": [
    "Import libraries"
   ]
  },
  {
   "cell_type": "code",
   "execution_count": 199,
   "metadata": {},
   "outputs": [],
   "source": [
    "import pandas as pd\n",
    "import numpy as np\n",
    "import matplotlib.pyplot as plt"
   ]
  },
  {
   "cell_type": "markdown",
   "metadata": {},
   "source": [
    "Get the data from the csv file and print it out"
   ]
  },
  {
   "cell_type": "code",
   "execution_count": 200,
   "metadata": {},
   "outputs": [
    {
     "name": "stdout",
     "output_type": "stream",
     "text": [
      "   Instance number Blood pressure (B) Weight (W) Family history (F) Age (A)  \\\n",
      "0                1                avg       >avg                yes     >50   \n",
      "1                2               <avg        avg                yes    <=50   \n",
      "2                3               >avg       >avg                 no     >50   \n",
      "3                4                avg       >avg                yes     >50   \n",
      "4                5               >avg       >avg                yes     >50   \n",
      "\n",
      "  Diabetes (D)  \n",
      "0          yes  \n",
      "1           no  \n",
      "2          yes  \n",
      "3          yes  \n",
      "4           no  \n"
     ]
    }
   ],
   "source": [
    "#get the data from the csv file\n",
    "data = pd.read_csv('data.csv')\n",
    "#print the first 5 rows of the data\n",
    "print(data.head())"
   ]
  },
  {
   "cell_type": "markdown",
   "metadata": {},
   "source": [
    "(Q1) Fill out the frequencies (i.e., f(F,C) for each F and C) for the diabetes data."
   ]
  },
  {
   "cell_type": "code",
   "execution_count": 201,
   "metadata": {},
   "outputs": [
    {
     "name": "stdout",
     "output_type": "stream",
     "text": [
      "                             Frequency\n",
      "Blood pressure (B) avg  yes          5\n",
      "                   <avg yes          0\n",
      "                   >avg yes          4\n",
      "Weight (W)         >avg yes          7\n",
      "                   avg  yes          2\n",
      "                   <avg yes          0\n",
      "Family history (F) yes  yes          6\n",
      "                   no   yes          3\n",
      "Age (A)            >50  yes          7\n",
      "                   <=50 yes          2\n",
      "Blood pressure (B) avg  no           3\n",
      "                   <avg no           4\n",
      "                   >avg no           4\n",
      "Weight (W)         >avg no           4\n",
      "                   avg  no           5\n",
      "                   <avg no           2\n",
      "Family history (F) yes  no           4\n",
      "                   no   no           7\n",
      "Age (A)            >50  no           3\n",
      "                   <=50 no           8\n"
     ]
    }
   ],
   "source": [
    "#first we drop the instance number column\n",
    "data = data.drop('Instance number', axis=1)\n",
    "\n",
    "'''function to calculate the frequencies of each feature for each class'''\n",
    "def get_frequencies(data):\n",
    "    #get the unique values of the class\n",
    "    classes = data['Diabetes (D)'].unique()\n",
    "    #get the unique values of the features\n",
    "    features = data.columns[:-1]\n",
    "    #create a dictionary to store the frequencies\n",
    "    frequencies = {}\n",
    "    #loop through the classes\n",
    "    for c in classes:\n",
    "        #get the data for the class\n",
    "        class_data = data[data['Diabetes (D)'] == c]\n",
    "        #loop through the features\n",
    "        for f in features:\n",
    "            #get the unique values of the feature\n",
    "            feature_values = data[f].unique()\n",
    "            #loop through the feature values\n",
    "            for fv in feature_values:\n",
    "                #get the frequency of the feature value for the class\n",
    "                frequency = len(class_data[class_data[f] == fv]) #/ len(class_data)\n",
    "                #store the frequency in the dictionary\n",
    "                frequencies[(f,fv,c)] = frequency\n",
    "    return frequencies\n",
    "\n",
    "#call the function to get the frequencies\n",
    "frequencies = get_frequencies(data)\n",
    "#print the frequencies by feature in a frequency table\n",
    "print(pd.DataFrame(frequencies, index=['Frequency']).T)"
   ]
  },
  {
   "cell_type": "markdown",
   "metadata": {},
   "source": [
    "NOTE: For the above example, the frequency is grouped by the feature, then the feature category, then the class."
   ]
  },
  {
   "cell_type": "markdown",
   "metadata": {},
   "source": [
    "(Q2) Based on the table in (Q1), compute the (joint) probabilities (i.e., p(F,C)) for the diabetes data."
   ]
  },
  {
   "cell_type": "code",
   "execution_count": 202,
   "metadata": {},
   "outputs": [
    {
     "name": "stdout",
     "output_type": "stream",
     "text": [
      "                             Probability\n",
      "Blood pressure (B) avg  yes         0.25\n",
      "                   <avg yes         0.00\n",
      "                   >avg yes         0.20\n",
      "Weight (W)         >avg yes         0.35\n",
      "                   avg  yes         0.10\n",
      "                   <avg yes         0.00\n",
      "Family history (F) yes  yes         0.30\n",
      "                   no   yes         0.15\n",
      "Age (A)            >50  yes         0.35\n",
      "                   <=50 yes         0.10\n",
      "Blood pressure (B) avg  no          0.15\n",
      "                   <avg no          0.20\n",
      "                   >avg no          0.20\n",
      "Weight (W)         >avg no          0.20\n",
      "                   avg  no          0.25\n",
      "                   <avg no          0.10\n",
      "Family history (F) yes  no          0.20\n",
      "                   no   no          0.35\n",
      "Age (A)            >50  no          0.15\n",
      "                   <=50 no          0.40\n"
     ]
    }
   ],
   "source": [
    "'''function to calculate the probabilities of each feature for each class'''\n",
    "def get_probabilities(data):\n",
    "    #get the unique values of the class\n",
    "    classes = data['Diabetes (D)'].unique()\n",
    "    #get the unique values of the features\n",
    "    features = data.columns[:-1]\n",
    "    #create a dictionary to store the probabilities\n",
    "    probabilities = {}\n",
    "    #loop through the classes\n",
    "    for c in classes:\n",
    "        #get the data for the class\n",
    "        class_data = data[data['Diabetes (D)'] == c]\n",
    "        #loop through the features\n",
    "        for f in features:\n",
    "            #get the unique values of the feature\n",
    "            feature_values = data[f].unique()\n",
    "            #loop through the feature values\n",
    "            for fv in feature_values:\n",
    "                #get the probability of the feature value for all the classes\n",
    "                probability = len(class_data[class_data[f] == fv]) / len(data)\n",
    "                #store the probability in the dictionary\n",
    "                probabilities[(f,fv,c)] = probability\n",
    "    return probabilities\n",
    "\n",
    "#call the function to get the probabilities\n",
    "probabilities = get_probabilities(data)\n",
    "#print the probabilities by feature in a probability table\n",
    "print(pd.DataFrame(probabilities, index=['Probability']).T)"
   ]
  },
  {
   "cell_type": "markdown",
   "metadata": {},
   "source": [
    "(Q2) Based on the table in (Q1), compute the (conditional) probabilities (i.e., p(F,C)) for the diabetes data."
   ]
  },
  {
   "cell_type": "code",
   "execution_count": 203,
   "metadata": {},
   "outputs": [
    {
     "name": "stdout",
     "output_type": "stream",
     "text": [
      "                             Conditional Probability\n",
      "Blood pressure (B) avg  yes                 0.555556\n",
      "                   <avg yes                 0.000000\n",
      "                   >avg yes                 0.444444\n",
      "Weight (W)         >avg yes                 0.777778\n",
      "                   avg  yes                 0.222222\n",
      "                   <avg yes                 0.000000\n",
      "Family history (F) yes  yes                 0.666667\n",
      "                   no   yes                 0.333333\n",
      "Age (A)            >50  yes                 0.777778\n",
      "                   <=50 yes                 0.222222\n",
      "Blood pressure (B) avg  no                  0.272727\n",
      "                   <avg no                  0.363636\n",
      "                   >avg no                  0.363636\n",
      "Weight (W)         >avg no                  0.363636\n",
      "                   avg  no                  0.454545\n",
      "                   <avg no                  0.181818\n",
      "Family history (F) yes  no                  0.363636\n",
      "                   no   no                  0.636364\n",
      "Age (A)            >50  no                  0.272727\n",
      "                   <=50 no                  0.727273\n"
     ]
    }
   ],
   "source": [
    "'''function to calculate the conditional probabilities of each feature for each class'''\n",
    "def get_conditional_probabilities(data):\n",
    "    #get the unique values of the class\n",
    "    classes = data['Diabetes (D)'].unique()\n",
    "    #get the unique values of the features\n",
    "    features = data.columns[:-1]\n",
    "    #create a dictionary to store the probabilities\n",
    "    probabilities = {}\n",
    "    #loop through the classes\n",
    "    for c in classes:\n",
    "        #get the data for the class\n",
    "        class_data = data[data['Diabetes (D)'] == c]\n",
    "        #loop through the features\n",
    "        for f in features:\n",
    "            #get the unique values of the feature\n",
    "            feature_values = data[f].unique()\n",
    "            #loop through the feature values\n",
    "            for fv in feature_values:\n",
    "                #get the probability of the feature value for the class\n",
    "                probability = len(class_data[class_data[f] == fv]) / len(class_data)\n",
    "                #store the probability in the dictionary\n",
    "                probabilities[(f,fv,c)] = probability\n",
    "    return probabilities\n",
    "\n",
    "#call the function to get the conditional probabilities\n",
    "conditional_probabilities = get_conditional_probabilities(data)\n",
    "#print the conditional probabilities by feature in a conditional probability table\n",
    "print(pd.DataFrame(conditional_probabilities, index=['Conditional Probability']).T)"
   ]
  },
  {
   "cell_type": "markdown",
   "metadata": {},
   "source": [
    "(Q3) Based on the tables in (Q1) and (Q2), show how to classify the seen instances. Are they all correctly classified?"
   ]
  },
  {
   "cell_type": "code",
   "execution_count": 204,
   "metadata": {},
   "outputs": [
    {
     "name": "stdout",
     "output_type": "stream",
     "text": [
      "{'yes': 0.9490789921738346, 'no': 0.05092100782616541}\n",
      "Instance 1 is yes and is correctly classified\n",
      "{'no': 1.0, 'yes': 0.0}\n",
      "Instance 2 is no and is correctly classified\n",
      "{'yes': 0.7616283822447477, 'no': 0.23837161775525217}\n",
      "Instance 3 is yes and is correctly classified\n",
      "{'yes': 0.9490789921738346, 'no': 0.05092100782616541}\n",
      "Instance 4 is yes and is correctly classified\n",
      "{'no': 0.0820818848432816, 'yes': 0.9179181151567185}\n",
      "Instance 5 is no and is incorrectly classified\n",
      "{'yes': 0.6663281507015862, 'no': 0.3336718492984138}\n",
      "Instance 6 is yes and is correctly classified\n",
      "{'no': 1.0, 'yes': 0.0}\n",
      "Instance 7 is no and is correctly classified\n",
      "{'no': 0.7449703008239127, 'yes': 0.2550296991760873}\n",
      "Instance 8 is no and is correctly classified\n",
      "{'no': 1.0, 'yes': 0.0}\n",
      "Instance 9 is no and is correctly classified\n",
      "{'no': 0.3336718492984138, 'yes': 0.6663281507015862}\n",
      "Instance 10 is no and is incorrectly classified\n",
      "{'no': 0.5779292849215159, 'yes': 0.4220707150784842}\n",
      "Instance 11 is no and is correctly classified\n",
      "{'yes': 0.8098922114047288, 'no': 0.1901077885952712}\n",
      "Instance 12 is yes and is correctly classified\n",
      "{'yes': 0.7616283822447477, 'no': 0.23837161775525217}\n",
      "Instance 13 is yes and is correctly classified\n",
      "{'no': 0.8846320533934298, 'yes': 0.11536794660657015}\n",
      "Instance 14 is no and is correctly classified\n",
      "{'no': 1.0, 'yes': 0.0}\n",
      "Instance 15 is no and is correctly classified\n",
      "{'yes': 0.6663281507015862, 'no': 0.3336718492984138}\n",
      "Instance 16 is yes and is correctly classified\n",
      "{'yes': 0.7187933960808518, 'no': 0.28120660391914837}\n",
      "Instance 17 is yes and is correctly classified\n",
      "{'no': 0.6367159779463945, 'yes': 0.36328402205360555}\n",
      "Instance 18 is no and is correctly classified\n",
      "{'yes': 0.7616283822447477, 'no': 0.23837161775525217}\n",
      "Instance 19 is yes and is correctly classified\n",
      "{'no': 0.927430347309307, 'yes': 0.07256965269069295}\n",
      "Instance 20 is no and is correctly classified\n"
     ]
    }
   ],
   "source": [
    "#example(for instance 1):\n",
    "#p(D=yes|F) = p(F|D=yes) * p(D=yes) / p(F)\n",
    "# = p({BP>avg,W>avg,FH=yes,A>50}|D=yes) * p(D=yes) / p(F)\n",
    "# = p(BP>avg|D=yes) * p(W>avg|D=yes) * p(FH=yes|D=yes) * p(A>50|D=yes) * p(D=yes) / p(F)\n",
    "\n",
    "'''function to classify an instance'''\n",
    "def classify_instance(instance, probabilities, conditional_probabilities):\n",
    "    global data\n",
    "    #get the unique values of the features\n",
    "    features = instance.columns[:-1]\n",
    "    #create a dictionary to store the probabilities\n",
    "    probabilities = {}\n",
    "    c = instance['Diabetes (D)'].values[0]\n",
    "    #get the probability of the class\n",
    "    probability = len(data[data['Diabetes (D)'] == c]) / len(data)\n",
    "    #get the probability of not the class\n",
    "    not_probability = 1 - probability\n",
    "    #loop through the features\n",
    "    for f in features:\n",
    "        #get the feature value\n",
    "        fv = instance[f].values[0]\n",
    "        #get the conditional probability of the feature value for the class\n",
    "        conditional_probability = conditional_probabilities[(f,fv,c)]\n",
    "        #get the conditional probability of the feature value for not the class (i.e., the complement)\n",
    "        if c == 'yes':\n",
    "            not_conditional_probability = conditional_probabilities[(f,fv,'no')]\n",
    "        else:\n",
    "            not_conditional_probability = conditional_probabilities[(f,fv,'yes')]\n",
    "        #multiply the conditional probability by the probability of the class\n",
    "        probability *= conditional_probability\n",
    "        #multiply the conditional probability of the complement by the probability of not the class\n",
    "        not_probability *= not_conditional_probability\n",
    "        #store the probability in the dictionary\n",
    "    probabilities[c] = probability\n",
    "    #store the probability of not the class in the dictionary\n",
    "    if c == 'yes':\n",
    "        probabilities['no'] = not_probability\n",
    "    else:\n",
    "        probabilities['yes'] = not_probability\n",
    "    #divide each probabiltiy by the sum of all probabilities\n",
    "    sum_probabilities = sum(probabilities.values())\n",
    "    probabilities = {k: v / sum_probabilities for k, v in probabilities.items()}\n",
    "    #return the class with the highest probability after printing the probabilities\n",
    "    print(probabilities)\n",
    "    return max(probabilities, key=probabilities.get)\n",
    "\n",
    "#classify the instances\n",
    "for i in range(1, len(data)+1):\n",
    "    #get the instance (=row index+1)\n",
    "    instance = data.iloc[i-1:i]\n",
    "    #get the class of the instance\n",
    "    instance_class = instance['Diabetes (D)'].values[0]\n",
    "    #classify the instance\n",
    "    classification = classify_instance(instance, probabilities, conditional_probabilities)\n",
    "    #print the classification\n",
    "    print('Instance', i, 'is', instance_class, 'and is', 'correctly' if instance_class == classification else 'incorrectly', 'classified')\n"
   ]
  },
  {
   "cell_type": "markdown",
   "metadata": {},
   "source": [
    "Based on the tables in (Q1) and (Q2), show how to classify the following unseen instances. "
   ]
  },
  {
   "cell_type": "code",
   "execution_count": 205,
   "metadata": {},
   "outputs": [
    {
     "name": "stdout",
     "output_type": "stream",
     "text": [
      "{'no': 0.4549230679225415, 'yes': 0.5450769320774586}\n",
      "Instance 1 would be classified as yes\n",
      "{'no': 0.4510208290369148, 'yes': 0.5489791709630852}\n",
      "Instance 2 would be classified as yes\n",
      "{'no': 1.0, 'yes': 0.0}\n",
      "Instance 3 would be classified as no\n"
     ]
    }
   ],
   "source": [
    "#classify the instances with unknown diabetes\n",
    "file = 'unseenData.csv'\n",
    "#NOTE: Unseen data is not used to train the model, but to test the model, so the class included in the data is a dummy class\n",
    "#read the data\n",
    "data2 = pd.read_csv(file)\n",
    "#drop the Instance Number column\n",
    "data2 = data2.drop('Instance number', axis=1)\n",
    "#classify the instances\n",
    "for i in range(1, len(data2)+1):\n",
    "    #get the instance (=row index+1)\n",
    "    instance = data2.iloc[i-1:i]\n",
    "    #classify the instance\n",
    "    classification = classify_instance(instance, probabilities, conditional_probabilities)\n",
    "    #print the classification\n",
    "    print('Instance', i, 'would be classified as', classification)\n"
   ]
  }
 ],
 "metadata": {
  "kernelspec": {
   "display_name": "Python 3.10.8 64-bit (microsoft store)",
   "language": "python",
   "name": "python3"
  },
  "language_info": {
   "codemirror_mode": {
    "name": "ipython",
    "version": 3
   },
   "file_extension": ".py",
   "mimetype": "text/x-python",
   "name": "python",
   "nbconvert_exporter": "python",
   "pygments_lexer": "ipython3",
   "version": "3.10.8"
  },
  "orig_nbformat": 4,
  "vscode": {
   "interpreter": {
    "hash": "25023e466fa3735353441a9750ec1431f91af0e07709d75994f3b2db92047dd9"
   }
  }
 },
 "nbformat": 4,
 "nbformat_minor": 2
}
